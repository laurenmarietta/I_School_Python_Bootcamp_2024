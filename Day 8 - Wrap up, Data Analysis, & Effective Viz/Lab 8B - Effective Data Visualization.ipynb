{
 "cells": [
  {
   "cell_type": "markdown",
   "id": "2efa200c-6b96-4136-b0bb-eb4e55f1cf20",
   "metadata": {},
   "source": [
    "# Lab 8B - Effective Data Visualizatoin\n",
    "*Day 8 - August 8, 2024*\n",
    "\n",
    "*I School Python Bootcamp*\n",
    "\n",
    "*Author: Lauren Chambers*\n",
    "\n",
    "# Exercises\n",
    "## Exercise 1\n",
    "\n",
    "Make this plot look better using the 10 principles! Hint: Google how to do specific things, and check out the official `matplotlib` documentation."
   ]
  },
  {
   "cell_type": "code",
   "execution_count": null,
   "id": "0f8f0cbb-a595-419b-92d6-03e22308e9bd",
   "metadata": {},
   "outputs": [],
   "source": [
    "import matplotlib.pyplot as plt\n",
    "import pandas as pd\n",
    "import numpy as np"
   ]
  },
  {
   "cell_type": "code",
   "execution_count": null,
   "id": "f0f3b230-4ec7-42e6-a6b0-ee7e7547a7d2",
   "metadata": {},
   "outputs": [],
   "source": [
    "countries_df = pd.read_csv(\"countries.csv\")"
   ]
  },
  {
   "cell_type": "code",
   "execution_count": null,
   "id": "94d588cc-ed43-4235-a9bb-755c016dbec9",
   "metadata": {},
   "outputs": [],
   "source": [
    "countries_df\n",
    "continents = countries_df.continent.unique()\n",
    "years = sorted(countries_df.year.unique().astype(int))\n",
    "\n",
    "lifeExp_cont = {}\n",
    "for c in continents:\n",
    "    data = countries_df[countries_df.continent == c]\n",
    "    lifeexp_v_t = []\n",
    "    for year in years:\n",
    "        y_data = data[data.year == year]\n",
    "        lifeExp = y_data.lifeExp.mean()\n",
    "        lifeexp_v_t.append(lifeExp)\n",
    "        \n",
    "    lifeExp_cont[c] = lifeexp_v_t"
   ]
  },
  {
   "cell_type": "code",
   "execution_count": null,
   "id": "16232f7e-eb3e-4788-9e85-6634523c33ce",
   "metadata": {},
   "outputs": [],
   "source": [
    "plt.figure()\n",
    "\n",
    "for c in continents:\n",
    "    plt.plot(years, lifeExp_cont[c], label=c)\n",
    "\n",
    "plt.legend()\n",
    "plt.show()"
   ]
  },
  {
   "cell_type": "code",
   "execution_count": null,
   "id": "c25486bc-7ddb-44f4-b675-bc4d2324f336",
   "metadata": {},
   "outputs": [],
   "source": []
  },
  {
   "cell_type": "code",
   "execution_count": null,
   "id": "a0baf1ac-815e-4b50-87b2-66cc56f510b0",
   "metadata": {},
   "outputs": [],
   "source": []
  }
 ],
 "metadata": {
  "kernelspec": {
   "display_name": "Python 3 (ipykernel)",
   "language": "python",
   "name": "python3"
  },
  "language_info": {
   "codemirror_mode": {
    "name": "ipython",
    "version": 3
   },
   "file_extension": ".py",
   "mimetype": "text/x-python",
   "name": "python",
   "nbconvert_exporter": "python",
   "pygments_lexer": "ipython3",
   "version": "3.8.17"
  }
 },
 "nbformat": 4,
 "nbformat_minor": 5
}
